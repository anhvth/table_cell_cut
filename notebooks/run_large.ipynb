{
 "cells": [
  {
   "cell_type": "code",
   "execution_count": 4,
   "metadata": {},
   "outputs": [
    {
     "name": "stdout",
     "output_type": "stream",
     "text": [
      "/bin/sh: 1: kill: No such process\n",
      "\n"
     ]
    }
   ],
   "source": [
    "!kill -9 32762"
   ]
  },
  {
   "cell_type": "code",
   "execution_count": 16,
   "metadata": {},
   "outputs": [
    {
     "name": "stdout",
     "output_type": "stream",
     "text": [
      "shalowunet  unified\n"
     ]
    }
   ],
   "source": [
    "!ls ../output"
   ]
  },
  {
   "cell_type": "code",
   "execution_count": 5,
   "metadata": {
    "scrolled": true
   },
   "outputs": [
    {
     "name": "stdout",
     "output_type": "stream",
     "text": [
      "python ../unified_network.py --mode export     --checkpoint ../output/unified/2 --crop_size 1024 --output_dir ../output/unified/2/frozen --ngf 32 --down_scale_rate 2\n"
     ]
    },
    {
     "data": {
      "text/plain": [
       "256"
      ]
     },
     "execution_count": 5,
     "metadata": {},
     "output_type": "execute_result"
    }
   ],
   "source": [
    "import os\n",
    "checkpoint = '../output/unified/2'\n",
    "frozen_dir = checkpoint+'/frozen'\n",
    "os.system('rm -r {}'.format(frozen_dir))\n",
    "cmd = 'python ../unified_network.py --mode export \\\n",
    "    --checkpoint {} --crop_size 1024 --output_dir {} --ngf 32 --down_scale_rate 2'.format(checkpoint, frozen_dir)\n",
    "print(cmd)\n",
    "os.system(cmd)"
   ]
  },
  {
   "cell_type": "code",
   "execution_count": 19,
   "metadata": {},
   "outputs": [
    {
     "name": "stdout",
     "output_type": "stream",
     "text": [
      "Finish\n"
     ]
    }
   ],
   "source": [
    "from time import time\n",
    "import tensorflow as tf\n",
    "import cv2\n",
    "import numpy as np\n",
    "import os\n",
    "from glob import glob\n",
    "import math\n",
    "\n",
    "\n",
    "def get_tensor_by_name(name):\n",
    "    name_on_device = '{}:0'.format(name)\n",
    "    return tf.get_default_graph().get_tensor_by_name(name_on_device)\n",
    "\n",
    "def load_image(path, verbal=False, down_scale=1):\n",
    "    print('---------------------------\\nprocess:', path)\n",
    "    name = path.split('/')[-1].split('.')[0]\n",
    "    image = cv2.imread(path)\n",
    "#     p = 286/256\n",
    "    image = cv2.resize(image, (0,0), fx=down_scale, fy=down_scale)\n",
    "    image = cv2.cvtColor(image, cv2.COLOR_BGR2RGB)\n",
    "    return image[:, :image.shape[1]//2]\n",
    "\n",
    "def write(path, image):\n",
    "    image = cv2.cvtColor(image, cv2.COLOR_RGB2BGR)\n",
    "    return cv2.imwrite(path, image)\n",
    "print('Finish')\n",
    "def get_name(path):\n",
    "    name, _ = os.path.splitext(os.path.basename(path))\n",
    "    return name   "
   ]
  },
  {
   "cell_type": "code",
   "execution_count": 20,
   "metadata": {},
   "outputs": [],
   "source": [
    "def save_output(image, output_image, save_dir):\n",
    "    os.makedirs(save_dir, exist_ok=True)\n",
    "    inp = image\n",
    "    out1 = output_image[:,:,0]\n",
    "    out2 = output_image[:,:,-1]\n",
    "    #cv2.imwrite(os.path.join(save_dir, 'input.png'), inp)\n",
    "    write(os.path.join(save_dir, 'input.png'), inp)\n",
    "    cv2.imwrite(os.path.join(save_dir, 'output1.png'), out1)\n",
    "    cv2.imwrite(os.path.join(save_dir, 'output2.png'), out2)\n",
    "    print('Output: ', save_dir)"
   ]
  },
  {
   "cell_type": "code",
   "execution_count": 21,
   "metadata": {},
   "outputs": [],
   "source": [
    "def run(sess, feed_image, batch_size=8):\n",
    "    batch_input = sess.run(batch_input_tensor, {inputs:feed_image})\n",
    "    rv = []\n",
    "    \n",
    "    for i in range(0, len(batch_input), batch_size):\n",
    "        print('\\r {:0.2f} %'.format(i/len(batch_input)), end='')\n",
    "        rv.append(sess.run(batch_output_tensor, {batch_input_placeholder: batch_input[i:i+batch_size]}))\n",
    "    output_feed = np.concatenate(rv, axis=0)\n",
    "    return sess.run(outputs, {batch_output_placeholder: output_feed, inputs:feed_image})"
   ]
  },
  {
   "cell_type": "markdown",
   "metadata": {},
   "source": [
    "# RESTORE MODEL\n"
   ]
  },
  {
   "cell_type": "code",
   "execution_count": 22,
   "metadata": {},
   "outputs": [],
   "source": [
    "frozen_dir = '../output/shalowunet/dic/frozen/'"
   ]
  },
  {
   "cell_type": "code",
   "execution_count": 23,
   "metadata": {},
   "outputs": [
    {
     "name": "stdout",
     "output_type": "stream",
     "text": [
      "meta path: ../output/shalowunet/dic/frozen/export.meta\n"
     ]
    }
   ],
   "source": [
    "# input_dir = '../data/bprost/refine2/*/*'\n",
    "checkpoint = frozen_dir\n",
    "output_dir = os.path.join(checkpoint, 'images')\n",
    "\n",
    "tf.reset_default_graph()\n",
    "from time import time\n",
    "meta_path = os.path.join(checkpoint, 'export.meta')\n",
    "print('meta path:', meta_path)\n",
    "\n",
    "assert os.path.exists(meta_path), meta_path+' does not exist'\n",
    "tf.train.import_meta_graph(meta_path)\n",
    "saver = tf.train.Saver()"
   ]
  },
  {
   "cell_type": "markdown",
   "metadata": {},
   "source": [
    "# RUN SAMPLE"
   ]
  },
  {
   "cell_type": "code",
   "execution_count": 24,
   "metadata": {},
   "outputs": [],
   "source": [
    "input_dir = '../data/dic/origin_combine/'"
   ]
  },
  {
   "cell_type": "code",
   "execution_count": 25,
   "metadata": {},
   "outputs": [
    {
     "name": "stdout",
     "output_type": "stream",
     "text": [
      "input_dir: ../data/dic/origin_combine/\n",
      "['../data/dic/origin_combine/SG1-1-2.png', '../data/dic/origin_combine/SG1-11.png', '../data/dic/origin_combine/SG1-29.png', '../data/dic/origin_combine/SG1-33-2.png', '../data/dic/origin_combine/SG1-40-2.png', '../data/dic/origin_combine/SG1-26.png', '../data/dic/origin_combine/SG1-30.png', '../data/dic/origin_combine/SG1-4.png', '../data/dic/origin_combine/SG1-20.png', '../data/dic/origin_combine/SG1-40-1.png']\n"
     ]
    }
   ],
   "source": [
    "print('input_dir:', input_dir)\n",
    "paths = glob('{}/*.png'.format(input_dir))\n",
    "# paths = [path for path in paths if get_name(path).isdigit()]\n",
    "print(paths)"
   ]
  },
  {
   "cell_type": "code",
   "execution_count": 26,
   "metadata": {},
   "outputs": [],
   "source": [
    "down_scale = 286/256"
   ]
  },
  {
   "cell_type": "code",
   "execution_count": 27,
   "metadata": {
    "scrolled": true
   },
   "outputs": [
    {
     "name": "stdout",
     "output_type": "stream",
     "text": [
      "INFO:tensorflow:Restoring parameters from ../output/shalowunet/dic/frozen/export\n",
      "num of params: 282345\n",
      "Num of sample: 10 ../data/dic/origin_combine/\n",
      "---------------------------\n",
      "process: ../data/dic/origin_combine/SG1-1-2.png\n",
      "image: ../data/dic/origin_combine/SG1-1-2.png \t shape:  (2603, 1852, 3)\n",
      " 0.93 %Output:  ../output/shalowunet/dic/frozen/temp1/origin_combine\n",
      "Running time: 2.2536795139312744 image: (2330, 1658, 3)\n",
      "---------------------------\n",
      "process: ../data/dic/origin_combine/SG1-11.png\n",
      "image: ../data/dic/origin_combine/SG1-11.png \t shape:  (1846, 1340, 3)\n",
      " 0.89 %Output:  ../output/shalowunet/dic/frozen/temp1/origin_combine\n",
      "Running time: 3.4080581665039062 image: (1652, 1199, 3)\n",
      "---------------------------\n",
      "process: ../data/dic/origin_combine/SG1-29.png\n",
      "image: ../data/dic/origin_combine/SG1-29.png \t shape:  (2608, 1852, 3)\n",
      " 0.93 %Output:  ../output/shalowunet/dic/frozen/temp1/origin_combine\n",
      "Running time: 5.395366430282593 image: (2334, 1658, 3)\n",
      "---------------------------\n",
      "process: ../data/dic/origin_combine/SG1-33-2.png\n",
      "image: ../data/dic/origin_combine/SG1-33-2.png \t shape:  (2611, 1852, 3)\n",
      " 0.93 %Output:  ../output/shalowunet/dic/frozen/temp1/origin_combine\n",
      "Running time: 7.3691489696502686 image: (2337, 1658, 3)\n",
      "---------------------------\n",
      "process: ../data/dic/origin_combine/SG1-40-2.png\n",
      "image: ../data/dic/origin_combine/SG1-40-2.png \t shape:  (2597, 1848, 3)\n",
      " 0.93 %Output:  ../output/shalowunet/dic/frozen/temp1/origin_combine\n",
      "Running time: 9.793689966201782 image: (2325, 1654, 3)\n",
      "---------------------------\n",
      "process: ../data/dic/origin_combine/SG1-26.png\n",
      "image: ../data/dic/origin_combine/SG1-26.png \t shape:  (2614, 1854, 3)\n",
      " 0.93 %Output:  ../output/shalowunet/dic/frozen/temp1/origin_combine\n",
      "Running time: 11.818520545959473 image: (2340, 1660, 3)\n",
      "---------------------------\n",
      "process: ../data/dic/origin_combine/SG1-30.png\n",
      "image: ../data/dic/origin_combine/SG1-30.png \t shape:  (2258, 1602, 3)\n",
      " 0.83 %Output:  ../output/shalowunet/dic/frozen/temp1/origin_combine\n",
      "Running time: 13.450485944747925 image: (2021, 1434, 3)\n",
      "---------------------------\n",
      "process: ../data/dic/origin_combine/SG1-4.png\n",
      "image: ../data/dic/origin_combine/SG1-4.png \t shape:  (1848, 1297, 3)\n",
      " 0.89 %Output:  ../output/shalowunet/dic/frozen/temp1/origin_combine\n",
      "Running time: 14.589007139205933 image: (1654, 1161, 3)\n",
      "---------------------------\n",
      "process: ../data/dic/origin_combine/SG1-20.png\n",
      "image: ../data/dic/origin_combine/SG1-20.png \t shape:  (1302, 1857, 3)\n",
      " 0.89 %Output:  ../output/shalowunet/dic/frozen/temp1/origin_combine\n",
      "Running time: 15.744141578674316 image: (1165, 1662, 3)\n",
      "---------------------------\n",
      "process: ../data/dic/origin_combine/SG1-40-1.png\n",
      "image: ../data/dic/origin_combine/SG1-40-1.png \t shape:  (2599, 1846, 3)\n",
      " 0.93 %Output:  ../output/shalowunet/dic/frozen/temp1/origin_combine\n",
      "Running time: 17.830888032913208 image: (2326, 1652, 3)\n",
      "Running time: 17.830923080444336\n"
     ]
    }
   ],
   "source": [
    "with tf.Session() as sess:\n",
    "\n",
    "    saver.restore(sess, tf.train.latest_checkpoint(\n",
    "        checkpoint))\n",
    "\n",
    "    parameter_count = tf.reduce_sum([tf.reduce_prod(tf.shape(v)) for v in tf.trainable_variables()])\n",
    "    print('num of params:', sess.run(parameter_count))\n",
    "\n",
    "\n",
    "    os.makedirs(output_dir, exist_ok=True)\n",
    "    start = time()\n",
    "\n",
    "    assert len(paths) > 0\n",
    "    print('Num of sample:', len(paths), input_dir)\n",
    "    inputs = get_tensor_by_name('inputs')\n",
    "    outputs = get_tensor_by_name('outputs')\n",
    "    batch_input_tensor = get_tensor_by_name('batch_input_tensor')\n",
    "    batch_input_placeholder = get_tensor_by_name('batch_input_placeholder')\n",
    "    batch_output_tensor = get_tensor_by_name('batch_output_tensor')\n",
    "    batch_output_placeholder = get_tensor_by_name('batch_output_placeholder')\n",
    "    start = time()\n",
    "    begin = start\n",
    "    for path in paths:\n",
    "        name = path.split('/')[-2].split('.')[0]\n",
    "        image = load_image(path, verbal=True, down_scale=down_scale)\n",
    "        print('image:', path, '\\t shape: ', image.shape)\n",
    "        output_image = run(sess, image)\n",
    "        save_dir = os.path.join(checkpoint, 'temp1/{}'.format(name))\n",
    "        image = cv2.resize(image, (0,0), fx=1/down_scale, fy=1/down_scale)\n",
    "        output_image = cv2.resize(output_image, (0,0), fx=1/down_scale, fy=1/down_scale)\n",
    "        save_output(image, output_image, save_dir)\n",
    "        print('Running time:', time()-start, 'image:', image.shape)\n",
    "\n",
    "\n",
    "    print('Running time:', time()-begin)\n"
   ]
  },
  {
   "cell_type": "code",
   "execution_count": null,
   "metadata": {},
   "outputs": [],
   "source": []
  },
  {
   "cell_type": "code",
   "execution_count": null,
   "metadata": {},
   "outputs": [],
   "source": []
  },
  {
   "cell_type": "code",
   "execution_count": null,
   "metadata": {},
   "outputs": [],
   "source": []
  },
  {
   "cell_type": "code",
   "execution_count": null,
   "metadata": {},
   "outputs": [],
   "source": []
  },
  {
   "cell_type": "code",
   "execution_count": null,
   "metadata": {},
   "outputs": [],
   "source": []
  }
 ],
 "metadata": {
  "kernelspec": {
   "display_name": "Python 3",
   "language": "python",
   "name": "python3"
  },
  "language_info": {
   "codemirror_mode": {
    "name": "ipython",
    "version": 3
   },
   "file_extension": ".py",
   "mimetype": "text/x-python",
   "name": "python",
   "nbconvert_exporter": "python",
   "pygments_lexer": "ipython3",
   "version": "3.6.4"
  }
 },
 "nbformat": 4,
 "nbformat_minor": 2
}
