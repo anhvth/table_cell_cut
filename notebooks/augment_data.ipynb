{
 "cells": [
  {
   "cell_type": "code",
   "execution_count": 2,
   "metadata": {},
   "outputs": [
    {
     "name": "stdout",
     "output_type": "stream",
     "text": [
      "../data/bpr1/origin_combine:\n",
      "\u001b[34mA\u001b[m\u001b[m \u001b[34mB\u001b[m\u001b[m\n",
      "\n",
      "../data/bpr2/origin_combine:\n",
      "\u001b[34mA\u001b[m\u001b[m \u001b[34mB\u001b[m\u001b[m\n",
      "\n",
      "../data/dic/origin_combine:\n",
      "\u001b[34mA\u001b[m\u001b[m \u001b[34mB\u001b[m\u001b[m\n"
     ]
    }
   ],
   "source": [
    "!ls ../data/*/o*"
   ]
  },
  {
   "cell_type": "code",
   "execution_count": 11,
   "metadata": {},
   "outputs": [
    {
     "name": "stdout",
     "output_type": "stream",
     "text": [
      "Initialised with 9 image(s) found.\n",
      "Output directory set to ../data/bpr1/origin_combine/A/output."
     ]
    },
    {
     "name": "stderr",
     "output_type": "stream",
     "text": [
      "/home/ubuntu/anaconda3/lib/python3.6/site-packages/matplotlib/__init__.py:962: UserWarning: Duplicate key in file \"/home/ubuntu/.config/matplotlib/matplotlibrc\", line #2\n",
      "  (fname, cnt))\n",
      "/home/ubuntu/anaconda3/lib/python3.6/site-packages/matplotlib/__init__.py:962: UserWarning: Duplicate key in file \"/home/ubuntu/.config/matplotlib/matplotlibrc\", line #3\n",
      "  (fname, cnt))\n"
     ]
    }
   ],
   "source": [
    "import Augmentor\n",
    "from Augmentor.Operations import Operation\n",
    "p = Augmentor.Pipeline('../data/bpr1/origin_combine/A/')\n",
    "import numpy as np\n",
    "import cv2\n",
    "import matplotlib.pyplot as plt"
   ]
  },
  {
   "cell_type": "code",
   "execution_count": 12,
   "metadata": {},
   "outputs": [],
   "source": [
    "import os\n",
    "import Augmentor\n",
    "\n",
    "from Augmentor.Operations import Operation\n",
    "class my_crop(Operation):\n",
    "    # Here you can accept as many custom parameters as required:\n",
    "    def __init__(self, probability, height, width):\n",
    "        # Call the superclass's constructor (meaning you must\n",
    "        # supply a probability value):\n",
    "        Operation.__init__(self, probability)\n",
    "        self.h = height\n",
    "        self.w = width\n",
    "        # Set your custom operation's member variables here as required:\n",
    "#         self.num_of_folds = num_of_folds\n",
    "\n",
    "    # Your class must implement the perform_operation method:\n",
    "    def perform_operation(self, images):\n",
    "        y = np.random.randint(0, images[0].size[0]-self.h)\n",
    "        x = np.random.randint(0, images[0].size[1]-self.w)\n",
    "        res = []\n",
    "        for im in images:\n",
    "            res.append(im.crop([x,y, x+self.w, y+self.h]))         \n",
    "        return res\n",
    "def augment(path, zoom_min=1, zoom_max=1, sample=100, scale=None):\n",
    "    patha = os.path.join(path, 'A')\n",
    "    pathb = os.path.join(path, 'B')\n",
    "    assert os.path.exists(patha) and os.path.exists(pathb)\n",
    "    p = Augmentor.Pipeline(patha)\n",
    "    #     p.set_seed(0)\n",
    "    p.ground_truth(pathb)\n",
    "    p.add_operation(my_crop(1.,512, 512))\n",
    "    if scale is not None:\n",
    "        p.scale(1, scale)\n",
    "    p.zoom(probability=1, min_factor=zoom_min, max_factor=zoom_max)\n",
    "    p.rotate(probability=1, max_left_rotation=5, max_right_rotation=5)\n",
    "    p.flip_left_right(probability=0.5)\n",
    "    p.flip_top_bottom(probability=0.5)\n",
    "    p.random_distortion(probability=.6, grid_width=4, grid_height=4, magnitude=10)\n",
    "    p.sample(11)\n",
    "    \n",
    "def find_path(p_in_A, B_paths):\n",
    "    s1 = p_in_A.split('-')[-1]\n",
    "    for p_in_B in B_paths:\n",
    "        s2 = p_in_B.split('-')[-1]\n",
    "        if s1 == s2:\n",
    "            return p_in_B\n",
    "    return False\n",
    "def get_pair_output(path_origin):\n",
    "    B_paths_ = glob(os.path.join(path+'/A', 'output')+'/_*.png')\n",
    "    A_paths_ = glob(os.path.join(path+'/A', 'output')+'/A_*.png')\n",
    "    B_paths = []\n",
    "    A_paths = []\n",
    "    for pa_ in A_paths_:\n",
    "        pb = find_path(pa_, B_paths_)\n",
    "        if pb:\n",
    "            A_paths.append(pa_)\n",
    "            B_paths.append(pb)\n",
    "    return A_paths, B_paths\n",
    "\n",
    "def show_path(p1, p2):\n",
    "    im1 = cv2.imread(p1, 0)\n",
    "    im2 = cv2.imread(p2)    \n",
    "    mask = np.zeros([*im1.shape[:2], 3], 'uint8')\n",
    "    mask[...,0] = im1\n",
    "    mask[...,1:] = im2[...,1:]\n",
    "    plt.figure(figsize=(20,20))\n",
    "    plt.show(plt.imshow(mask))"
   ]
  },
  {
   "cell_type": "markdown",
   "metadata": {},
   "source": [
    "# DAICHI"
   ]
  },
  {
   "cell_type": "code",
   "execution_count": 19,
   "metadata": {},
   "outputs": [
    {
     "name": "stderr",
     "output_type": "stream",
     "text": [
      "Executing Pipeline:   0%|          | 0/1000 [00:00<?, ? Samples/s]"
     ]
    },
    {
     "name": "stdout",
     "output_type": "stream",
     "text": [
      "augment:  ../data/dic/origin_combine/\n",
      "Initialised with 9 image(s) found.\n",
      "Output directory set to ../data/dic/origin_combine/A/output.9 ground truth image(s) found.\n"
     ]
    },
    {
     "name": "stderr",
     "output_type": "stream",
     "text": [
      "Processing <PIL.Image.Image image mode=RGB size=512x512 at 0x7F2AF9C982E8>: 100%|██████████| 1000/1000 [02:05<00:00,  7.94 Samples/s]\n"
     ]
    },
    {
     "name": "stdout",
     "output_type": "stream",
     "text": [
      "1000 1000\n",
      "CPU times: user 8min 4s, sys: 9.69 s, total: 8min 13s\n",
      "Wall time: 2min 6s\n"
     ]
    }
   ],
   "source": [
    "%%time\n",
    "from glob import glob\n",
    "# for path in glob('../data/*/o*') :\n",
    "path = '../data/dic/origin_combine/'\n",
    "print('augment: ',path)\n",
    "augment(path, sample=1000, zoom_min=.8, zoom_max=1.5)\n",
    "\n",
    "output_dir_a = os.path.join(os.path.split(path)[0], 'augment/A')\n",
    "output_dir_b = os.path.join(os.path.split(path)[0], 'augment/B')\n",
    "os.system('rm -r {}'.format(output_dir_a))\n",
    "os.system('rm -r {}'.format(output_dir_b))\n",
    "os.makedirs(output_dir_a, exist_ok=True)\n",
    "os.makedirs(output_dir_b, exist_ok=True)\n",
    "\n",
    "A_paths, B_paths = get_pair_output(path)\n",
    "print(len(A_paths), len(B_paths))\n",
    "for pa, pb in zip(A_paths, B_paths):\n",
    "    assert pa.split('-')[-1] == pb.split('-')[-1]\n",
    "    name = pa.split('-')[-1]\n",
    "    new_name_a = os.path.join(output_dir_a, name)\n",
    "    new_name_b = os.path.join(output_dir_b, name)\n",
    "    os.rename(pa, new_name_a)\n",
    "    os.rename(pb, new_name_b)\n",
    "#    show_path(new_name_a, new_name_b)"
   ]
  },
  {
   "cell_type": "markdown",
   "metadata": {},
   "source": [
    "# BPROST 1"
   ]
  },
  {
   "cell_type": "code",
   "execution_count": 111,
   "metadata": {},
   "outputs": [
    {
     "name": "stderr",
     "output_type": "stream",
     "text": [
      "Executing Pipeline:   0%|          | 0/1 [00:00<?, ? Samples/s]"
     ]
    },
    {
     "name": "stdout",
     "output_type": "stream",
     "text": [
      "augment:  ../data/bpr2/combine_scale_50/\n",
      "Initialised with 12 image(s) found.\n",
      "Output directory set to ../data/bpr2/combine_scale_50/A/output.12 ground truth image(s) found.\n"
     ]
    },
    {
     "name": "stderr",
     "output_type": "stream",
     "text": [
      "Processing <PIL.Image.Image image mode=RGB size=512x512 at 0x10DA92550>: 100%|██████████| 1/1 [00:00<00:00,  2.19 Samples/s]\n",
      "Processing <PIL.Image.Image image mode=RGB size=512x512 at 0x10D2F4080>: 100%|██████████| 12/12 [00:01<00:00,  8.24 Samples/s]"
     ]
    },
    {
     "name": "stdout",
     "output_type": "stream",
     "text": [
      "14 14\n",
      "CPU times: user 10.4 s, sys: 481 ms, total: 10.9 s\n",
      "Wall time: 1.94 s\n"
     ]
    },
    {
     "name": "stderr",
     "output_type": "stream",
     "text": [
      "\n"
     ]
    }
   ],
   "source": [
    "%%time\n",
    "from glob import glob\n",
    "# for path in glob('../data/*/o*') :\n",
    "path = '../data/bpr1/origin_combine/'\n",
    "print('augment: ',path)\n",
    "augment(path, sample=1, zoom_min=1.1, zoom_max=1.5)\n",
    "\n",
    "output_dir_a = os.path.join(os.path.split(path)[0], 'augment/A')\n",
    "output_dir_b = os.path.join(os.path.split(path)[0], 'augment/B')\n",
    "os.system('rm -r {}'.format(output_dir_a))\n",
    "os.system('rm -r {}'.format(output_dir_b))\n",
    "os.makedirs(output_dir_a, exist_ok=True)\n",
    "os.makedirs(output_dir_b, exist_ok=True)\n",
    "\n",
    "A_paths, B_paths = get_pair_output(path)\n",
    "print(len(A_paths), len(B_paths))\n",
    "for pa, pb in zip(A_paths, B_paths):\n",
    "    assert pa.split('-')[-1] == pb.split('-')[-1]\n",
    "    name = pa.split('-')[-1]\n",
    "    new_name_a = os.path.join(output_dir_a, name)\n",
    "    new_name_b = os.path.join(output_dir_b, name)\n",
    "    os.rename(pa, new_name_a)\n",
    "    os.rename(pb, new_name_b)    "
   ]
  },
  {
   "cell_type": "markdown",
   "metadata": {},
   "source": [
    "# BPROST 2 scale = 0.3"
   ]
  },
  {
   "cell_type": "code",
   "execution_count": 112,
   "metadata": {},
   "outputs": [
    {
     "name": "stderr",
     "output_type": "stream",
     "text": [
      "Executing Pipeline:   0%|          | 0/1 [00:00<?, ? Samples/s]"
     ]
    },
    {
     "name": "stdout",
     "output_type": "stream",
     "text": [
      "Initialised with 12 image(s) found.\n",
      "Output directory set to ../data/bpr2/combine scale_30/A/output.12 ground truth image(s) found.\n"
     ]
    },
    {
     "name": "stderr",
     "output_type": "stream",
     "text": [
      "Processing <PIL.Image.Image image mode=RGB size=512x512 at 0x10DA92AC8>: 100%|██████████| 1/1 [00:00<00:00,  2.29 Samples/s]\n",
      "Processing <PIL.Image.Image image mode=RGB size=512x512 at 0x10D304B38>: 100%|██████████| 12/12 [00:01<00:00, 10.62 Samples/s]"
     ]
    },
    {
     "name": "stdout",
     "output_type": "stream",
     "text": [
      "14 14\n",
      "CPU times: user 8.57 s, sys: 284 ms, total: 8.86 s\n",
      "Wall time: 1.59 s\n"
     ]
    },
    {
     "name": "stderr",
     "output_type": "stream",
     "text": [
      "\n"
     ]
    }
   ],
   "source": [
    "%%time\n",
    "path = '../data/bpr2/combine scale_30/'\n",
    "augment(path, sample=1, zoom_min=2, zoom_max=2)\n",
    "output_dir_a = os.path.join(os.path.split(path)[0], 'augment/A')\n",
    "output_dir_b = os.path.join(os.path.split(path)[0], 'augment/B')\n",
    "os.system('rm -r {}'.format(output_dir_a))\n",
    "os.system('rm -r {}'.format(output_dir_b))\n",
    "os.makedirs(output_dir_a, exist_ok=True)\n",
    "os.makedirs(output_dir_b, exist_ok=True)\n",
    "\n",
    "A_paths, B_paths = get_pair_output(path)\n",
    "print(len(A_paths), len(B_paths))\n",
    "for pa, pb in zip(A_paths, B_paths):\n",
    "    assert pa.split('-')[-1] == pb.split('-')[-1]\n",
    "    name = pa.split('-')[-1]\n",
    "    new_name_a = os.path.join(output_dir_a, name)\n",
    "    new_name_b = os.path.join(output_dir_b, name)\n",
    "    os.rename(pa, new_name_a)\n",
    "    os.rename(pb, new_name_b)    "
   ]
  },
  {
   "cell_type": "code",
   "execution_count": null,
   "metadata": {},
   "outputs": [],
   "source": []
  },
  {
   "cell_type": "code",
   "execution_count": null,
   "metadata": {},
   "outputs": [],
   "source": []
  }
 ],
 "metadata": {
  "kernelspec": {
   "display_name": "Python 3",
   "language": "python",
   "name": "python3"
  },
  "language_info": {
   "codemirror_mode": {
    "name": "ipython",
    "version": 3
   },
   "file_extension": ".py",
   "mimetype": "text/x-python",
   "name": "python",
   "nbconvert_exporter": "python",
   "pygments_lexer": "ipython3",
   "version": "3.6.3"
  }
 },
 "nbformat": 4,
 "nbformat_minor": 2
}
