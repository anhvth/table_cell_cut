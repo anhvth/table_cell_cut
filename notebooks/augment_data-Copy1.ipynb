{
 "cells": [
  {
   "cell_type": "code",
<<<<<<< HEAD
   "execution_count": 1,
=======
   "execution_count": 17,
>>>>>>> f068fe5ce75b1a97d49cb28f517f83c9119f5163
   "metadata": {},
   "outputs": [
    {
     "name": "stdout",
     "output_type": "stream",
     "text": [
      "../data/bpr1/origin_combine:\n",
<<<<<<< HEAD
      "\u001b[34mA\u001b[m\u001b[m       \u001b[34mB\u001b[m\u001b[m       \u001b[34maugment\u001b[m\u001b[m\n",
=======
      "A  B\n",
>>>>>>> f068fe5ce75b1a97d49cb28f517f83c9119f5163
      "\n",
      "../data/bpr2/origin_combine:\n",
      "A  B\n",
      "\n",
      "../data/dic/origin_combine:\n",
      "A  augment  B\n"
     ]
    }
   ],
   "source": [
    "!ls ../data/*/o*"
   ]
  },
  {
   "cell_type": "code",
<<<<<<< HEAD
   "execution_count": 2,
   "metadata": {},
   "outputs": [
    {
     "name": "stdout",
     "output_type": "stream",
     "text": [
      "Initialised with 9 image(s) found.\n",
      "Output directory set to ../data/bpr1/origin_combine/A/output."
     ]
    }
   ],
=======
   "execution_count": 18,
   "metadata": {},
   "outputs": [],
>>>>>>> f068fe5ce75b1a97d49cb28f517f83c9119f5163
   "source": [
    "import Augmentor\n",
    "from Augmentor.Operations import Operation\n",
    "import numpy as np\n",
    "import cv2\n",
    "import matplotlib.pyplot as plt"
   ]
  },
  {
   "cell_type": "code",
   "execution_count": 14,
   "metadata": {},
   "outputs": [],
   "source": [
    "import os\n",
    "import Augmentor\n",
    "\n",
    "from Augmentor.Operations import Operation\n",
    "class my_crop(Operation):\n",
    "    # Here you can accept as many custom parameters as required:\n",
    "    def __init__(self, probability, height, width):\n",
    "        # Call the superclass's constructor (meaning you must\n",
    "        # supply a probability value):\n",
    "        Operation.__init__(self, probability)\n",
    "        self.h = height\n",
    "        self.w = width\n",
    "        # Set your custom operation's member variables here as required:\n",
    "#         self.num_of_folds = num_of_folds\n",
    "\n",
    "    # Your class must implement the perform_operation method:\n",
    "    def perform_operation(self, images):\n",
    "        y = np.random.randint(0, images[0].size[0]-self.h)\n",
    "        x = np.random.randint(0, images[0].size[1]-self.w)\n",
    "        res = []\n",
    "        for im in images:\n",
    "            res.append(im.crop([x,y, x+self.w, y+self.h]))         \n",
    "        return res\n",
    "def augment(path, zoom_min=1, zoom_max=1, sample=100, scale=None):\n",
    "    patha = os.path.join(path, 'A')\n",
    "    pathb = os.path.join(path, 'B')\n",
    "    assert os.path.exists(patha) and os.path.exists(pathb)\n",
    "    p = Augmentor.Pipeline(patha)\n",
    "    #     p.set_seed(0)\n",
    "    p.ground_truth(pathb)\n",
    "    p.add_operation(my_crop(1.,512, 512))\n",
    "    if scale is not None:\n",
    "        p.scale(1, scale)\n",
    "    p.zoom(probability=1, min_factor=zoom_min, max_factor=zoom_max)\n",
    "    p.rotate(probability=1, max_left_rotation=5, max_right_rotation=5)\n",
    "    p.flip_left_right(probability=0.5)\n",
    "    p.flip_top_bottom(probability=0.5)\n",
    "    p.random_distortion(probability=.6, grid_width=4, grid_height=4, magnitude=10)\n",
    "    p.sample(sample)\n",
    "    \n",
    "def find_path(p_in_A, B_paths):\n",
    "    s1 = p_in_A.split('-')[-1]\n",
    "    for p_in_B in B_paths:\n",
    "        s2 = p_in_B.split('-')[-1]\n",
    "        if s1 == s2:\n",
    "            return p_in_B\n",
    "    return False\n",
    "def get_pair_output(path):\n",
    "    B_paths_ = glob(os.path.join(path+'/A', 'output')+'/_*.png')\n",
    "    A_paths_ = glob(os.path.join(path+'/A', 'output')+'/A_*.png')\n",
    "    B_paths = []\n",
    "    A_paths = []\n",
    "    for pa_ in A_paths_:\n",
    "        pb = find_path(pa_, B_paths_)\n",
    "        if pb:\n",
    "            A_paths.append(pa_)\n",
    "            B_paths.append(pb)\n",
    "    return A_paths, B_paths\n",
    "\n",
    "def show_path(p1, p2):\n",
    "    im1 = cv2.imread(p1, 0)\n",
    "    im2 = cv2.imread(p2)    \n",
    "    mask = np.zeros([*im1.shape[:2], 3], 'uint8')\n",
    "    mask[...,0] = im1\n",
    "    mask[...,1:] = im2[...,1:]\n",
    "    plt.figure(figsize=(20,20))\n",
    "    plt.show(plt.imshow(mask))"
   ]
  },
  {
   "cell_type": "markdown",
   "metadata": {},
   "source": [
    "# DAICHI"
   ]
  },
  {
   "cell_type": "code",
   "execution_count": 15,
   "metadata": {},
   "outputs": [
    {
     "name": "stderr",
     "output_type": "stream",
     "text": [
      "Executing Pipeline:   0%|          | 0/10 [00:00<?, ? Samples/s]"
     ]
    },
    {
     "name": "stdout",
     "output_type": "stream",
     "text": [
      "Initialised with 9 image(s) found.\n",
      "Output directory set to ../data/dic/origin_combine/A/output.9 ground truth image(s) found.\n"
     ]
    },
    {
     "name": "stderr",
     "output_type": "stream",
     "text": [
      "Processing <PIL.Image.Image image mode=RGB size=512x512 at 0x7F63081A9B00>: 100%|██████████| 10/10 [00:01<00:00,  1.03 Samples/s]\n"
     ]
    },
    {
     "name": "stdout",
     "output_type": "stream",
     "text": [
      "10 10\n",
      "CPU times: user 5.32 s, sys: 172 ms, total: 5.49 s\n",
      "Wall time: 1.58 s\n"
     ]
    }
   ],
   "source": [
    "%%time\n",
    "def process(path, sample):\n",
    "    augment(path, sample=sample, zoom_min=.8, zoom_max=1.5)\n",
    "\n",
    "    output_dir_a = os.path.join(os.path.split(path)[0], 'augment/A')\n",
    "    output_dir_b = os.path.join(os.path.split(path)[0], 'augment/B')\n",
    "    os.system('rm -r {}'.format(output_dir_a))\n",
    "    os.system('rm -r {}'.format(output_dir_b))\n",
    "    os.makedirs(output_dir_a, exist_ok=True)\n",
    "    os.makedirs(output_dir_b, exist_ok=True)\n",
    "\n",
<<<<<<< HEAD
    "A_paths, B_paths = get_pair_output(path)\n",
    "print(len(A_paths), len(B_paths))\n",
    "for pa, pb in zip(A_paths, B_paths):\n",
    "    assert pa.split('-')[-1] == pb.split('-')[-1]\n",
    "    name = pa.split('-')[-1]\n",
    "    new_name_a = os.path.join(output_dir_a, name)\n",
    "    new_name_b = os.path.join(output_dir_b, name)\n",
    "    os.rename(pa, new_name_a)\n",
    "    os.rename(pb, new_name_b)"
=======
    "    A_paths, B_paths = get_pair_output(path)\n",
    "    print(len(A_paths), len(B_paths))\n",
    "    for pa, pb in zip(A_paths, B_paths):\n",
    "        assert pa.split('-')[-1] == pb.split('-')[-1]\n",
    "        name = pa.split('-')[-1]\n",
    "        new_name_a = os.path.join(output_dir_a, name)\n",
    "        new_name_b = os.path.join(output_dir_b, name)\n",
    "        os.rename(pa, new_name_a)\n",
    "        os.rename(pb, new_name_b)\n"
>>>>>>> f068fe5ce75b1a97d49cb28f517f83c9119f5163
   ]
  },
  {
   "cell_type": "markdown",
   "metadata": {},
   "source": [
    "# BPROST 1 scale 60"
   ]
  },
  {
   "cell_type": "code",
   "execution_count": null,
   "metadata": {},
   "outputs": [
    {
     "name": "stderr",
     "output_type": "stream",
     "text": [
      "Executing Pipeline:   0%|          | 0/10000 [00:00<?, ? Samples/s]"
     ]
    },
    {
     "name": "stdout",
     "output_type": "stream",
     "text": [
      "Initialised with 9 image(s) found.\n",
      "Output directory set to ../data/dic/origin_combine/A/output.9 ground truth image(s) found.\n"
     ]
    },
    {
     "name": "stderr",
     "output_type": "stream",
     "text": [
      "Processing <PIL.Image.Image image mode=RGB size=512x512 at 0x7F62F03D05C0>:   2%|▏         | 227/10000 [00:30<21:12,  7.68 Samples/s]"
     ]
    }
   ],
   "source": [
    "process('../data/dic/origin_combine/', sample=10000)\n",
    "process('../data/bpr1/combine_scale_60/', sample=10000)\n",
    "process('../data/bpr2/combine_scale_50/', sample=10000) \n"
   ]
  },
  {
   "cell_type": "code",
   "execution_count": 26,
   "metadata": {},
   "outputs": [
    {
     "name": "stdout",
     "output_type": "stream",
     "text": [
      "  10000   10000  290004\n"
     ]
    }
   ],
   "source": []
  },
  {
   "cell_type": "code",
   "execution_count": 5,
   "metadata": {},
   "outputs": [],
   "source": [
    "paths_A = !ls ../data/dic/origin_combine/augment/A/*\n",
    "paths_B = !ls ../data/dic/origin_combine/augment/B/*\n",
    "paths_A = sorted(paths_A)\n",
    "paths_B = sorted(paths_B)"
   ]
  },
  {
   "cell_type": "markdown",
   "metadata": {},
   "source": []
  },
  {
   "cell_type": "code",
   "execution_count": null,
   "metadata": {},
   "outputs": [
    {
     "ename": "KeyboardInterrupt",
     "evalue": "",
     "output_type": "error",
     "traceback": [
      "\u001b[0;31m---------------------------------------------------------------------------\u001b[0m",
      "\u001b[0;31mKeyboardInterrupt\u001b[0m                         Traceback (most recent call last)",
      "\u001b[0;32m<ipython-input-11-b48682b1a5ca>\u001b[0m in \u001b[0;36m<module>\u001b[0;34m()\u001b[0m\n\u001b[1;32m      5\u001b[0m \u001b[0;32mfor\u001b[0m \u001b[0mpa\u001b[0m\u001b[0;34m,\u001b[0m \u001b[0mpb\u001b[0m \u001b[0;32min\u001b[0m \u001b[0mzip\u001b[0m\u001b[0;34m(\u001b[0m\u001b[0mpaths_A\u001b[0m\u001b[0;34m,\u001b[0m \u001b[0mpaths_B\u001b[0m\u001b[0;34m)\u001b[0m\u001b[0;34m:\u001b[0m\u001b[0;34m\u001b[0m\u001b[0m\n\u001b[1;32m      6\u001b[0m     \u001b[0mima\u001b[0m \u001b[0;34m=\u001b[0m \u001b[0mcv2\u001b[0m\u001b[0;34m.\u001b[0m\u001b[0mimread\u001b[0m\u001b[0;34m(\u001b[0m\u001b[0mpa\u001b[0m\u001b[0;34m)\u001b[0m\u001b[0;34m\u001b[0m\u001b[0m\n\u001b[0;32m----> 7\u001b[0;31m     \u001b[0mimb\u001b[0m \u001b[0;34m=\u001b[0m \u001b[0mcv2\u001b[0m\u001b[0;34m.\u001b[0m\u001b[0mimread\u001b[0m\u001b[0;34m(\u001b[0m\u001b[0mpb\u001b[0m\u001b[0;34m)\u001b[0m\u001b[0;34m\u001b[0m\u001b[0m\n\u001b[0m\u001b[1;32m      8\u001b[0m     \u001b[0mpad\u001b[0m \u001b[0;34m=\u001b[0m \u001b[0mnp\u001b[0m\u001b[0;34m.\u001b[0m\u001b[0mzeros_like\u001b[0m\u001b[0;34m(\u001b[0m\u001b[0mima\u001b[0m\u001b[0;34m)\u001b[0m\u001b[0;34m\u001b[0m\u001b[0m\n\u001b[1;32m      9\u001b[0m     \u001b[0mpad\u001b[0m\u001b[0;34m[\u001b[0m\u001b[0;34m...\u001b[0m\u001b[0;34m,\u001b[0m\u001b[0;36m1\u001b[0m\u001b[0;34m:\u001b[0m\u001b[0;34m]\u001b[0m \u001b[0;34m=\u001b[0m \u001b[0mima\u001b[0m\u001b[0;34m[\u001b[0m\u001b[0;34m...\u001b[0m\u001b[0;34m,\u001b[0m\u001b[0;36m1\u001b[0m\u001b[0;34m:\u001b[0m\u001b[0;34m]\u001b[0m\u001b[0;34m\u001b[0m\u001b[0m\n",
      "\u001b[0;31mKeyboardInterrupt\u001b[0m: "
     ]
    }
   ],
   "source": [
    "import cv2\n",
    "import numpy as np\n",
    "import matplotlib.pyplot as plt\n",
    "show = lambda img:(plt.imshow(img))\n",
    "for pa, pb in zip(paths_A, paths_B):\n",
    "    ima = cv2.imread(pa)\n",
    "    imb = cv2.imread(pb)    \n",
    "    pad = np.zeros_like(ima)\n",
    "    pad[...,1:] = ima[...,1:]\n",
    "    pad[...,0] = imb[...,0]\n",
    "    show(pad)"
   ]
  },
  {
   "cell_type": "code",
   "execution_count": 1,
   "metadata": {},
   "outputs": [
    {
     "ename": "NameError",
     "evalue": "name 'plt' is not defined",
     "output_type": "error",
     "traceback": [
      "\u001b[0;31m---------------------------------------------------------------------------\u001b[0m",
      "\u001b[0;31mNameError\u001b[0m                                 Traceback (most recent call last)",
      "\u001b[0;32m<ipython-input-1-1eb00ff78cf2>\u001b[0m in \u001b[0;36m<module>\u001b[0;34m()\u001b[0m\n\u001b[0;32m----> 1\u001b[0;31m \u001b[0mplt\u001b[0m\u001b[0;34m.\u001b[0m\u001b[0mshow\u001b[0m\u001b[0;34m(\u001b[0m\u001b[0;34m)\u001b[0m\u001b[0;34m\u001b[0m\u001b[0m\n\u001b[0m",
      "\u001b[0;31mNameError\u001b[0m: name 'plt' is not defined"
     ]
    }
   ],
   "source": [
    "plt.show()"
   ]
  },
  {
   "cell_type": "code",
   "execution_count": null,
   "metadata": {},
   "outputs": [],
   "source": []
  }
 ],
 "metadata": {
  "kernelspec": {
   "display_name": "Python 3",
   "language": "python",
   "name": "python3"
  },
  "language_info": {
   "codemirror_mode": {
    "name": "ipython",
    "version": 3
   },
   "file_extension": ".py",
   "mimetype": "text/x-python",
   "name": "python",
   "nbconvert_exporter": "python",
   "pygments_lexer": "ipython3",
   "version": "3.6.4"
  }
 },
 "nbformat": 4,
 "nbformat_minor": 2
}
