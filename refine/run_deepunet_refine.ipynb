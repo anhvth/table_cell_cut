{
 "cells": [
  {
   "cell_type": "code",
   "execution_count": 3,
   "metadata": {},
   "outputs": [
    {
     "name": "stdout",
     "output_type": "stream",
     "text": [
      "1\n"
     ]
    }
   ],
   "source": [
    "!ls ../output/refine/"
   ]
  },
  {
   "cell_type": "code",
   "execution_count": 32,
   "metadata": {},
   "outputs": [
    {
     "name": "stdout",
     "output_type": "stream",
     "text": [
      "/home/ubuntu/anaconda3/lib/python3.6/site-packages/h5py/__init__.py:34: FutureWarning: Conversion of the second argument of issubdtype from `float` to `np.floating` is deprecated. In future, it will be treated as `np.float64 == np.dtype(float).type`.\n",
      "  from ._conv import register_converters as _register_converters\n",
      "/home/ubuntu/anaconda3/lib/python3.6/site-packages/matplotlib/__init__.py:962: UserWarning: Duplicate key in file \"/home/ubuntu/.config/matplotlib/matplotlibrc\", line #2\n",
      "  (fname, cnt))\n",
      "/home/ubuntu/anaconda3/lib/python3.6/site-packages/matplotlib/__init__.py:962: UserWarning: Duplicate key in file \"/home/ubuntu/.config/matplotlib/matplotlibrc\", line #3\n",
      "  (fname, cnt))\n",
      "loaded lab_colorization = False\n",
      "loaded ndf = 64\n",
      "loaded ngf = 16\n",
      "loaded which_direction = AtoB\n",
      "aspect_ratio = 1.0\n",
      "batch_size = 1\n",
      "beta1 = 0.5\n",
      "checkpoint = ../output/refine/1/\n",
      "crop_size = 1024\n",
      "deepunet = False\n",
      "display_freq = 0\n",
      "drop_rate = 0.5\n",
      "flip = False\n",
      "gan_weight = 1.0\n",
      "gpu_fraction = 0.8\n",
      "input_dir = data/croped_image640\n",
      "lab_colorization = False\n",
      "lr = 0.0002\n",
      "max_epochs = None\n",
      "max_steps = None\n",
      "mode = export\n",
      "ndf = 64\n",
      "ngf = 16\n",
      "output_dir = ../output/refine/1/frozen\n",
      "output_filetype = png\n",
      "progress_freq = 50\n",
      "save_freq = 5000\n",
      "scale_size = 1024\n",
      "seed = 1850140869\n",
      "separable_conv = False\n",
      "summary_freq = 100\n",
      "trace_freq = 0\n",
      "which_direction = AtoB\n",
      "(1, 1024, 1024, 3)\n",
      "(1, 256, 256, 16)\n",
      "(1, 64, 64, 16)\n",
      "(1, 32, 32, 16)\n",
      "(1, 16, 16, 16)\n",
      "(1, 8, 8, 16)\n",
      "Act6:(1, 8, 8, 16)\t, bn5:(1, 16, 16, 16)\n",
      "(1, 32, 32, 16)\n",
      "(1, 64, 64, 16)\n",
      "(1, 256, 256, 16)\n",
      "(1, 64, 64, 16)\n",
      "(1, 256, 256, 16)\n",
      "(1, 1024, 1024, 16)\n",
      "[TensorShape([Dimension(1), Dimension(1024), Dimension(1024), Dimension(3)]), TensorShape([Dimension(1), Dimension(256), Dimension(256), Dimension(3)]), TensorShape([Dimension(1), Dimension(64), Dimension(64), Dimension(3)])]\n",
      "2018-04-27 02:45:35.952258: I tensorflow/core/platform/cpu_feature_guard.cc:137] Your CPU supports instructions that this TensorFlow binary was not compiled to use: SSE4.1 SSE4.2 AVX AVX2 FMA\n",
      "2018-04-27 02:45:36.021103: I tensorflow/stream_executor/cuda/cuda_gpu_executor.cc:892] successful NUMA node read from SysFS had negative value (-1), but there must be at least one NUMA node, so returning NUMA node zero\n",
      "2018-04-27 02:45:36.021319: I tensorflow/core/common_runtime/gpu/gpu_device.cc:1030] Found device 0 with properties: \n",
      "name: Tesla K80 major: 3 minor: 7 memoryClockRate(GHz): 0.8235\n",
      "pciBusID: 0000:00:1e.0\n",
      "totalMemory: 11.17GiB freeMemory: 405.81MiB\n",
      "2018-04-27 02:45:36.021355: I tensorflow/core/common_runtime/gpu/gpu_device.cc:1120] Creating TensorFlow device (/device:GPU:0) -> (device: 0, name: Tesla K80, pci bus id: 0000:00:1e.0, compute capability: 3.7)\n",
      "loading model from checkpoint\n",
      "exporting model: ../output/refine/1/model-40000\n"
     ]
    }
   ],
   "source": [
    "!python deepunet_refine.py --mode export --checkpoint ../output/refine/1/ --output_dir ../output/refine/1/frozen --ngf 16 --crop_size 1024"
   ]
  },
  {
   "cell_type": "code",
   "execution_count": 33,
   "metadata": {},
   "outputs": [
    {
     "name": "stdout",
     "output_type": "stream",
     "text": [
      "meta path: ../output/refine/1/frozen/export.meta\n",
      "INFO:tensorflow:Restoring parameters from ../output/refine/1/frozen/export\n"
     ]
    }
   ],
   "source": [
    "import tensorflow as tf\n",
    "import cv2\n",
    "import numpy as np\n",
    "import os\n",
    "from glob import glob\n",
    "\n",
    "def get_tensor_by_name(name):\n",
    "    name_on_device = '{}:0'.format(name)\n",
    "    return tf.get_default_graph().get_tensor_by_name(name_on_device)\n",
    "\n",
    "tf.reset_default_graph()\n",
    "checkpoint = '../output/refine/1/frozen/'\n",
    "meta_path = glob(checkpoint+'*.meta')[0]\n",
    "print('meta path:', meta_path)\n",
    "assert os.path.exists(meta_path)\n",
    "\n",
    "tf.train.import_meta_graph(meta_path)\n",
    "sess = tf.Session()\n",
    "saver = tf.train.Saver(max_to_keep=1)\n",
    "# print('restore: ', tf.train.latest_checkpoint(checkpoint))\n",
    "saver.restore(sess, tf.train.latest_checkpoint(checkpoint))"
   ]
  },
  {
   "cell_type": "code",
   "execution_count": 34,
   "metadata": {},
   "outputs": [
    {
     "name": "stdout",
     "output_type": "stream",
     "text": [
      "(?, ?, 3)\n"
     ]
    }
   ],
   "source": [
    "inputs = get_tensor_by_name('inputs')\n",
    "outputs = get_tensor_by_name('outputs')\n",
    "print(outputs.shape)"
   ]
  },
  {
   "cell_type": "code",
   "execution_count": 35,
   "metadata": {},
   "outputs": [
    {
     "name": "stdout",
     "output_type": "stream",
     "text": [
      "['../output/shalowunet/1/frozen/temp1/5', '../output/shalowunet/1/frozen/temp1/IMG_9271', '../output/shalowunet/1/frozen/temp1/6', '../output/shalowunet/1/frozen/temp1/8', '../output/shalowunet/1/frozen/temp1/IMG_9274', '../output/shalowunet/1/frozen/temp1/IMG_9269', '../output/shalowunet/1/frozen/temp1/IMG_9272', '../output/shalowunet/1/frozen/temp1/1', '../output/shalowunet/1/frozen/temp1/7', '../output/shalowunet/1/frozen/temp1/IMG_9265', '../output/shalowunet/1/frozen/temp1/9', '../output/shalowunet/1/frozen/temp1/IMG_9268', '../output/shalowunet/1/frozen/temp1/2', '../output/shalowunet/1/frozen/temp1/10', '../output/shalowunet/1/frozen/temp1/3', '../output/shalowunet/1/frozen/temp1/IMG_9264', '../output/shalowunet/1/frozen/temp1/11', '../output/shalowunet/1/frozen/temp1/4', '../output/shalowunet/1/frozen/temp1/IMG_9270', '../output/shalowunet/1/frozen/temp1/IMG_9263', '../output/shalowunet/1/frozen/temp1/12']\n"
     ]
    }
   ],
   "source": [
    "paths = glob('../output/shalowunet/1/frozen/temp1/*')\n",
    "print(paths)"
   ]
  },
  {
   "cell_type": "code",
   "execution_count": 36,
   "metadata": {},
   "outputs": [],
   "source": [
    "def read_inp(p_in):\n",
    "    def read_image(path, img_name='output1', color=cv2.COLOR_BGR2GRAY):\n",
    "    #     print(path, img_name+'.png')\n",
    "        path = os.path.join(path, img_name+'.png')\n",
    "        assert os.path.exists(path)\n",
    "        img = cv2.imread(path)\n",
    "        return cv2.cvtColor(img, color)\n",
    "    \n",
    "    img_inp1 = read_image(p_in, 'input')\n",
    "    img_inp2 = read_image(p_in, 'output1')\n",
    "    img_inp3 = read_image(p_in, 'output2')\n",
    "    img_inp = np.stack([img_inp1,img_inp2,img_inp3], axis=-1)\n",
    "    return img_inp"
   ]
  },
  {
   "cell_type": "code",
   "execution_count": 37,
   "metadata": {},
   "outputs": [],
   "source": [
    "for path in paths:\n",
    "    img_inp = read_inp(path)\n",
    "    rv = sess.run(outputs, {inputs:img_inp})\n",
    "    cv2.imwrite(os.path.join(path, 'refine_line.png'), rv[:,:,0])\n",
    "    "
   ]
  },
  {
   "cell_type": "code",
   "execution_count": null,
   "metadata": {},
   "outputs": [],
   "source": []
  },
  {
   "cell_type": "code",
   "execution_count": null,
   "metadata": {},
   "outputs": [],
   "source": []
  },
  {
   "cell_type": "code",
   "execution_count": null,
   "metadata": {},
   "outputs": [],
   "source": []
  }
 ],
 "metadata": {
  "kernelspec": {
   "display_name": "Python 3",
   "language": "python",
   "name": "python3"
  },
  "language_info": {
   "codemirror_mode": {
    "name": "ipython",
    "version": 3
   },
   "file_extension": ".py",
   "mimetype": "text/x-python",
   "name": "python",
   "nbconvert_exporter": "python",
   "pygments_lexer": "ipython3",
   "version": "3.6.4"
  }
 },
 "nbformat": 4,
 "nbformat_minor": 2
}
